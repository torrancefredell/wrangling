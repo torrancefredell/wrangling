{
  "cells": [
    {
      "cell_type": "markdown",
      "metadata": {
        "id": "view-in-github",
        "colab_type": "text"
      },
      "source": [
        "<a href=\"https://colab.research.google.com/github/torrancefredell/wrangling/blob/main/wrangling_assignment.ipynb\" target=\"_parent\"><img src=\"https://colab.research.google.com/assets/colab-badge.svg\" alt=\"Open In Colab\"/></a>"
      ]
    },
    {
      "cell_type": "markdown",
      "id": "13ad028b-72b7-43ed-aa78-96fd4e518040",
      "metadata": {
        "id": "13ad028b-72b7-43ed-aa78-96fd4e518040"
      },
      "source": [
        "# Assignment: Data Wrangling\n"
      ]
    },
    {
      "cell_type": "code",
      "source": [
        "! git clone https://github.com/DS3001/wrangling"
      ],
      "metadata": {
        "colab": {
          "base_uri": "https://localhost:8080/"
        },
        "id": "LKAb5RHO3eBM",
        "outputId": "4f5f26fe-6403-46d5-e0db-48ff895cb557"
      },
      "id": "LKAb5RHO3eBM",
      "execution_count": null,
      "outputs": [
        {
          "output_type": "stream",
          "name": "stdout",
          "text": [
            "Cloning into 'wrangling'...\n",
            "remote: Enumerating objects: 63, done.\u001b[K\n",
            "remote: Counting objects: 100% (24/24), done.\u001b[K\n",
            "remote: Compressing objects: 100% (17/17), done.\u001b[K\n",
            "remote: Total 63 (delta 18), reused 7 (delta 7), pack-reused 39\u001b[K\n",
            "Receiving objects: 100% (63/63), 6.25 MiB | 18.13 MiB/s, done.\n",
            "Resolving deltas: 100% (24/24), done.\n"
          ]
        }
      ]
    },
    {
      "cell_type": "markdown",
      "id": "5735a4d4-8be8-433a-a351-70eb8002e632",
      "metadata": {
        "id": "5735a4d4-8be8-433a-a351-70eb8002e632"
      },
      "source": [
        "<font size=\"5\">**Q1**</font> Open the \"tidy_data.pdf\" document in the repo, which is a paper called Tidy Data by Hadley Wickham.\n",
        "\n",
        "  1. Read the abstract. What is this paper about?\n",
        "  2. Read the introduction. What is the \"tidy data standard\" intended to accomplish?\n",
        "  3. Read the intro to section 2. What does this sentence mean: \"Like families, tidy datasets are all alike but every messy dataset is messy in its own way.\" What does this sentence mean: \"For a given dataset, it’s usually easy to figure out what are observations and what are variables, but it is surprisingly difficult to precisely define variables and observations in general.\"\n",
        "  4. Read Section 2.2. How does Wickham define values, variables, and observations?\n",
        "  5. How is \"Tidy Data\" defined in section 2.3?\n",
        "  6. Read the intro to Section 3 and Section 3.1. What are the 5 most common problems with messy datasets? Why are the data in Table 4 messy? What is \"melting\" a dataset?\n",
        "  7. Why, specifically, is table 11 messy but table 12 tidy and \"molten\"?\n",
        "  8. Read Section 6. What is the \"chicken-and-egg\" problem with focusing on tidy data? What does Wickham hope happens in the future with further work on the subject of data wrangling?"
      ]
    },
    {
      "cell_type": "markdown",
      "source": [
        "<font size=\"5\">**Q1 Responses**</font>\n",
        "1. This paper is about a framework that can be used to \"tidy\" datasets by developing tools and streamlining processes for this purpose, so that datasets can be easily analyzed and visualized.\n",
        "2. The tidy data standard was made to simplify data exploration and analysis, as well as to condense the number of tools used in order to spend more time drawing valuable insights from data, rather than trying to figure out how to fix it up.\n",
        "3. The first quote, which compares happy vs. messy datasets and families, aims to share the message that all happy families and datasets are happy in one way; they do not have major issues, and as a result they are all similar, with a common structure. However, just as a family could appear messy because of any number of factors, datasets are the same; they could be messy because of too many missing pieces, faulty column/row naming methods, incorrect data types, etc. The second sentence refers to the complexities of understanding what is a variable versus observation in a dataset. This is difficult because variables and observations are very much defined in the context of the study that they are a part of, so it is difficult to say that they will universally \"look\" a certain way or describe certain things.\n",
        "4. Values are data points, of which the dataset is mainly comprised. Variables are the various attributes of whatever is being studied, and observations are the different units that are measured for each variable.\n",
        "5. Tidy data is defined as data that has three requirements: every variable and observation is its own column and row, respectively, and all of the observational units form the table itself.\n",
        "6. The five most common problems with messy datasets are as follows: column headers are values when they should be variable names, columns contain multiple variables, variables can be found in both rows and columns, multiple types of observational units are in one table, and/or an observational unit can be found in multiple tables. The data in table four are messy because the column headers are values when they should be variable names. The variables are religion, income, and frequency, but the column headers (income ranges) should correspond with values in one column titled \"income\" inside the table. Melting a dataset refers to the process of taking several columns and combining them into a single column with some 'variable' header, as well as an associated 'value' column, which contains the original columns' data. Each original column header is thus a value in the new variable column.  \n",
        "7. Dataset 11 is messy for a few reasons: first, it has an excessive number of blank spots, marked by \"--.\" Second, each day of the month has its own column, when they could instead be condensed down to a single \"dates\" column with an associated \"values\" column next to it. Dataset 12 is tidy and molten because the 30+ columns dedicated to the date have been condensed to one column, which has an associated value column.\n",
        "8. The \"chicken and egg\" problem refers to the problem where tidy data and tidy tools are interdependent; either one could come first, but realistically, neither one could be properly developed without the other. Therefore, they must be simultaneously adopted and advanced. In the future, Wickham hopes that scientists will build off of and improve the tidy data framework. Additionally, he hopes that tools that work with values stored in multidimensional arrays will be created, as well as tools that can choose between array-tidy and dataframe-tidy formats, for memory and performance sakes. Along with tidying, other tools that he mentions related to data cleaning include ones that could potentially find and missing values or typos, parse dates, work with international data, etc."
      ],
      "metadata": {
        "id": "mYilmEBxteHZ"
      },
      "id": "mYilmEBxteHZ"
    },
    {
      "cell_type": "markdown",
      "id": "da879ea7-8aac-48a3-b6c2-daea56d2e072",
      "metadata": {
        "id": "da879ea7-8aac-48a3-b6c2-daea56d2e072"
      },
      "source": [
        "<font size=\"5\">**Q2**</font> This question provides some practice cleaning variables which have common problems.\n",
        "1. Numeric variable: For `./data/airbnb_hw.csv`, clean the `Price` variable as well as you can, and explain the choices you make. How many missing values do you end up with? (Hint: What happens to the formatting when a price goes over 999 dollars, say from 675 to 1,112?)\n",
        "2. Categorical variable: For the `./data/sharks.csv` data covered in the lecture, clean the \"Type\" variable as well as you can, and explain the choices you make.\n",
        "3. Dummy variable: For the pretrial data covered in the lecture, clean the `WhetherDefendantWasReleasedPretrial` variable as well as you can, and, in particular, replace missing values with `np.nan`.\n",
        "4. Missing values, not at random: For the pretrial data covered in the lecture, clean the `ImposedSentenceAllChargeInContactEvent` variable as well as you can, and explain the choices you make. (Hint: Look at the `SentenceTypeAllChargesAtConvictionInContactEvent` variable.)"
      ]
    },
    {
      "cell_type": "markdown",
      "source": [
        "<font size=\"5\">**Q2. Part 1**</font>\n",
        "- Clean Price variable\n",
        "- Explain choices\n",
        "- How many missing values?"
      ],
      "metadata": {
        "id": "i_CZDxW3v-YE"
      },
      "id": "i_CZDxW3v-YE"
    },
    {
      "cell_type": "code",
      "source": [
        "import numpy as np\n",
        "import pandas as pd"
      ],
      "metadata": {
        "id": "bUxJ7AL5tuPs"
      },
      "id": "bUxJ7AL5tuPs",
      "execution_count": null,
      "outputs": []
    },
    {
      "cell_type": "code",
      "source": [
        "df = pd.read_csv('wrangling/assignment/data/airbnb_hw.csv', low_memory=False)\n",
        "df.head(3)"
      ],
      "metadata": {
        "colab": {
          "base_uri": "https://localhost:8080/",
          "height": 320
        },
        "id": "g1csAhB7v60t",
        "outputId": "ad15cdd4-6315-4aa0-a14b-65abfd4cbac9"
      },
      "id": "g1csAhB7v60t",
      "execution_count": null,
      "outputs": [
        {
          "output_type": "execute_result",
          "data": {
            "text/plain": [
              "    Host Id Host Since                             Name Neighbourhood   \\\n",
              "0   5162530        NaN  1 Bedroom in Prime Williamsburg       Brooklyn   \n",
              "1  33134899        NaN  Sunny, Private room in Bushwick       Brooklyn   \n",
              "2  39608626        NaN             Sunny Room in Harlem      Manhattan   \n",
              "\n",
              "  Property Type  Review Scores Rating (bin)        Room Type  Zipcode  Beds  \\\n",
              "0     Apartment                         NaN  Entire home/apt  11249.0   1.0   \n",
              "1     Apartment                         NaN     Private room  11206.0   1.0   \n",
              "2     Apartment                         NaN     Private room  10032.0   1.0   \n",
              "\n",
              "   Number of Records  Number Of Reviews Price  Review Scores Rating  \n",
              "0                  1                  0   145                   NaN  \n",
              "1                  1                  1    37                   NaN  \n",
              "2                  1                  1    28                   NaN  "
            ],
            "text/html": [
              "\n",
              "  <div id=\"df-b4a033de-b1a4-4540-af5c-c54470673132\" class=\"colab-df-container\">\n",
              "    <div>\n",
              "<style scoped>\n",
              "    .dataframe tbody tr th:only-of-type {\n",
              "        vertical-align: middle;\n",
              "    }\n",
              "\n",
              "    .dataframe tbody tr th {\n",
              "        vertical-align: top;\n",
              "    }\n",
              "\n",
              "    .dataframe thead th {\n",
              "        text-align: right;\n",
              "    }\n",
              "</style>\n",
              "<table border=\"1\" class=\"dataframe\">\n",
              "  <thead>\n",
              "    <tr style=\"text-align: right;\">\n",
              "      <th></th>\n",
              "      <th>Host Id</th>\n",
              "      <th>Host Since</th>\n",
              "      <th>Name</th>\n",
              "      <th>Neighbourhood</th>\n",
              "      <th>Property Type</th>\n",
              "      <th>Review Scores Rating (bin)</th>\n",
              "      <th>Room Type</th>\n",
              "      <th>Zipcode</th>\n",
              "      <th>Beds</th>\n",
              "      <th>Number of Records</th>\n",
              "      <th>Number Of Reviews</th>\n",
              "      <th>Price</th>\n",
              "      <th>Review Scores Rating</th>\n",
              "    </tr>\n",
              "  </thead>\n",
              "  <tbody>\n",
              "    <tr>\n",
              "      <th>0</th>\n",
              "      <td>5162530</td>\n",
              "      <td>NaN</td>\n",
              "      <td>1 Bedroom in Prime Williamsburg</td>\n",
              "      <td>Brooklyn</td>\n",
              "      <td>Apartment</td>\n",
              "      <td>NaN</td>\n",
              "      <td>Entire home/apt</td>\n",
              "      <td>11249.0</td>\n",
              "      <td>1.0</td>\n",
              "      <td>1</td>\n",
              "      <td>0</td>\n",
              "      <td>145</td>\n",
              "      <td>NaN</td>\n",
              "    </tr>\n",
              "    <tr>\n",
              "      <th>1</th>\n",
              "      <td>33134899</td>\n",
              "      <td>NaN</td>\n",
              "      <td>Sunny, Private room in Bushwick</td>\n",
              "      <td>Brooklyn</td>\n",
              "      <td>Apartment</td>\n",
              "      <td>NaN</td>\n",
              "      <td>Private room</td>\n",
              "      <td>11206.0</td>\n",
              "      <td>1.0</td>\n",
              "      <td>1</td>\n",
              "      <td>1</td>\n",
              "      <td>37</td>\n",
              "      <td>NaN</td>\n",
              "    </tr>\n",
              "    <tr>\n",
              "      <th>2</th>\n",
              "      <td>39608626</td>\n",
              "      <td>NaN</td>\n",
              "      <td>Sunny Room in Harlem</td>\n",
              "      <td>Manhattan</td>\n",
              "      <td>Apartment</td>\n",
              "      <td>NaN</td>\n",
              "      <td>Private room</td>\n",
              "      <td>10032.0</td>\n",
              "      <td>1.0</td>\n",
              "      <td>1</td>\n",
              "      <td>1</td>\n",
              "      <td>28</td>\n",
              "      <td>NaN</td>\n",
              "    </tr>\n",
              "  </tbody>\n",
              "</table>\n",
              "</div>\n",
              "    <div class=\"colab-df-buttons\">\n",
              "\n",
              "  <div class=\"colab-df-container\">\n",
              "    <button class=\"colab-df-convert\" onclick=\"convertToInteractive('df-b4a033de-b1a4-4540-af5c-c54470673132')\"\n",
              "            title=\"Convert this dataframe to an interactive table.\"\n",
              "            style=\"display:none;\">\n",
              "\n",
              "  <svg xmlns=\"http://www.w3.org/2000/svg\" height=\"24px\" viewBox=\"0 -960 960 960\">\n",
              "    <path d=\"M120-120v-720h720v720H120Zm60-500h600v-160H180v160Zm220 220h160v-160H400v160Zm0 220h160v-160H400v160ZM180-400h160v-160H180v160Zm440 0h160v-160H620v160ZM180-180h160v-160H180v160Zm440 0h160v-160H620v160Z\"/>\n",
              "  </svg>\n",
              "    </button>\n",
              "\n",
              "  <style>\n",
              "    .colab-df-container {\n",
              "      display:flex;\n",
              "      gap: 12px;\n",
              "    }\n",
              "\n",
              "    .colab-df-convert {\n",
              "      background-color: #E8F0FE;\n",
              "      border: none;\n",
              "      border-radius: 50%;\n",
              "      cursor: pointer;\n",
              "      display: none;\n",
              "      fill: #1967D2;\n",
              "      height: 32px;\n",
              "      padding: 0 0 0 0;\n",
              "      width: 32px;\n",
              "    }\n",
              "\n",
              "    .colab-df-convert:hover {\n",
              "      background-color: #E2EBFA;\n",
              "      box-shadow: 0px 1px 2px rgba(60, 64, 67, 0.3), 0px 1px 3px 1px rgba(60, 64, 67, 0.15);\n",
              "      fill: #174EA6;\n",
              "    }\n",
              "\n",
              "    .colab-df-buttons div {\n",
              "      margin-bottom: 4px;\n",
              "    }\n",
              "\n",
              "    [theme=dark] .colab-df-convert {\n",
              "      background-color: #3B4455;\n",
              "      fill: #D2E3FC;\n",
              "    }\n",
              "\n",
              "    [theme=dark] .colab-df-convert:hover {\n",
              "      background-color: #434B5C;\n",
              "      box-shadow: 0px 1px 3px 1px rgba(0, 0, 0, 0.15);\n",
              "      filter: drop-shadow(0px 1px 2px rgba(0, 0, 0, 0.3));\n",
              "      fill: #FFFFFF;\n",
              "    }\n",
              "  </style>\n",
              "\n",
              "    <script>\n",
              "      const buttonEl =\n",
              "        document.querySelector('#df-b4a033de-b1a4-4540-af5c-c54470673132 button.colab-df-convert');\n",
              "      buttonEl.style.display =\n",
              "        google.colab.kernel.accessAllowed ? 'block' : 'none';\n",
              "\n",
              "      async function convertToInteractive(key) {\n",
              "        const element = document.querySelector('#df-b4a033de-b1a4-4540-af5c-c54470673132');\n",
              "        const dataTable =\n",
              "          await google.colab.kernel.invokeFunction('convertToInteractive',\n",
              "                                                    [key], {});\n",
              "        if (!dataTable) return;\n",
              "\n",
              "        const docLinkHtml = 'Like what you see? Visit the ' +\n",
              "          '<a target=\"_blank\" href=https://colab.research.google.com/notebooks/data_table.ipynb>data table notebook</a>'\n",
              "          + ' to learn more about interactive tables.';\n",
              "        element.innerHTML = '';\n",
              "        dataTable['output_type'] = 'display_data';\n",
              "        await google.colab.output.renderOutput(dataTable, element);\n",
              "        const docLink = document.createElement('div');\n",
              "        docLink.innerHTML = docLinkHtml;\n",
              "        element.appendChild(docLink);\n",
              "      }\n",
              "    </script>\n",
              "  </div>\n",
              "\n",
              "\n",
              "<div id=\"df-0a9ed6d9-2ab8-4f1e-87e8-d65d6b9035c6\">\n",
              "  <button class=\"colab-df-quickchart\" onclick=\"quickchart('df-0a9ed6d9-2ab8-4f1e-87e8-d65d6b9035c6')\"\n",
              "            title=\"Suggest charts\"\n",
              "            style=\"display:none;\">\n",
              "\n",
              "<svg xmlns=\"http://www.w3.org/2000/svg\" height=\"24px\"viewBox=\"0 0 24 24\"\n",
              "     width=\"24px\">\n",
              "    <g>\n",
              "        <path d=\"M19 3H5c-1.1 0-2 .9-2 2v14c0 1.1.9 2 2 2h14c1.1 0 2-.9 2-2V5c0-1.1-.9-2-2-2zM9 17H7v-7h2v7zm4 0h-2V7h2v10zm4 0h-2v-4h2v4z\"/>\n",
              "    </g>\n",
              "</svg>\n",
              "  </button>\n",
              "\n",
              "<style>\n",
              "  .colab-df-quickchart {\n",
              "      --bg-color: #E8F0FE;\n",
              "      --fill-color: #1967D2;\n",
              "      --hover-bg-color: #E2EBFA;\n",
              "      --hover-fill-color: #174EA6;\n",
              "      --disabled-fill-color: #AAA;\n",
              "      --disabled-bg-color: #DDD;\n",
              "  }\n",
              "\n",
              "  [theme=dark] .colab-df-quickchart {\n",
              "      --bg-color: #3B4455;\n",
              "      --fill-color: #D2E3FC;\n",
              "      --hover-bg-color: #434B5C;\n",
              "      --hover-fill-color: #FFFFFF;\n",
              "      --disabled-bg-color: #3B4455;\n",
              "      --disabled-fill-color: #666;\n",
              "  }\n",
              "\n",
              "  .colab-df-quickchart {\n",
              "    background-color: var(--bg-color);\n",
              "    border: none;\n",
              "    border-radius: 50%;\n",
              "    cursor: pointer;\n",
              "    display: none;\n",
              "    fill: var(--fill-color);\n",
              "    height: 32px;\n",
              "    padding: 0;\n",
              "    width: 32px;\n",
              "  }\n",
              "\n",
              "  .colab-df-quickchart:hover {\n",
              "    background-color: var(--hover-bg-color);\n",
              "    box-shadow: 0 1px 2px rgba(60, 64, 67, 0.3), 0 1px 3px 1px rgba(60, 64, 67, 0.15);\n",
              "    fill: var(--button-hover-fill-color);\n",
              "  }\n",
              "\n",
              "  .colab-df-quickchart-complete:disabled,\n",
              "  .colab-df-quickchart-complete:disabled:hover {\n",
              "    background-color: var(--disabled-bg-color);\n",
              "    fill: var(--disabled-fill-color);\n",
              "    box-shadow: none;\n",
              "  }\n",
              "\n",
              "  .colab-df-spinner {\n",
              "    border: 2px solid var(--fill-color);\n",
              "    border-color: transparent;\n",
              "    border-bottom-color: var(--fill-color);\n",
              "    animation:\n",
              "      spin 1s steps(1) infinite;\n",
              "  }\n",
              "\n",
              "  @keyframes spin {\n",
              "    0% {\n",
              "      border-color: transparent;\n",
              "      border-bottom-color: var(--fill-color);\n",
              "      border-left-color: var(--fill-color);\n",
              "    }\n",
              "    20% {\n",
              "      border-color: transparent;\n",
              "      border-left-color: var(--fill-color);\n",
              "      border-top-color: var(--fill-color);\n",
              "    }\n",
              "    30% {\n",
              "      border-color: transparent;\n",
              "      border-left-color: var(--fill-color);\n",
              "      border-top-color: var(--fill-color);\n",
              "      border-right-color: var(--fill-color);\n",
              "    }\n",
              "    40% {\n",
              "      border-color: transparent;\n",
              "      border-right-color: var(--fill-color);\n",
              "      border-top-color: var(--fill-color);\n",
              "    }\n",
              "    60% {\n",
              "      border-color: transparent;\n",
              "      border-right-color: var(--fill-color);\n",
              "    }\n",
              "    80% {\n",
              "      border-color: transparent;\n",
              "      border-right-color: var(--fill-color);\n",
              "      border-bottom-color: var(--fill-color);\n",
              "    }\n",
              "    90% {\n",
              "      border-color: transparent;\n",
              "      border-bottom-color: var(--fill-color);\n",
              "    }\n",
              "  }\n",
              "</style>\n",
              "\n",
              "  <script>\n",
              "    async function quickchart(key) {\n",
              "      const quickchartButtonEl =\n",
              "        document.querySelector('#' + key + ' button');\n",
              "      quickchartButtonEl.disabled = true;  // To prevent multiple clicks.\n",
              "      quickchartButtonEl.classList.add('colab-df-spinner');\n",
              "      try {\n",
              "        const charts = await google.colab.kernel.invokeFunction(\n",
              "            'suggestCharts', [key], {});\n",
              "      } catch (error) {\n",
              "        console.error('Error during call to suggestCharts:', error);\n",
              "      }\n",
              "      quickchartButtonEl.classList.remove('colab-df-spinner');\n",
              "      quickchartButtonEl.classList.add('colab-df-quickchart-complete');\n",
              "    }\n",
              "    (() => {\n",
              "      let quickchartButtonEl =\n",
              "        document.querySelector('#df-0a9ed6d9-2ab8-4f1e-87e8-d65d6b9035c6 button');\n",
              "      quickchartButtonEl.style.display =\n",
              "        google.colab.kernel.accessAllowed ? 'block' : 'none';\n",
              "    })();\n",
              "  </script>\n",
              "</div>\n",
              "    </div>\n",
              "  </div>\n"
            ]
          },
          "metadata": {},
          "execution_count": 73
        }
      ]
    },
    {
      "cell_type": "code",
      "source": [
        "df.shape, '\\n'"
      ],
      "metadata": {
        "colab": {
          "base_uri": "https://localhost:8080/"
        },
        "id": "xd7JPmRk4dH4",
        "outputId": "d87071f2-6541-4a23-8e03-0186b825332d"
      },
      "id": "xd7JPmRk4dH4",
      "execution_count": null,
      "outputs": [
        {
          "output_type": "execute_result",
          "data": {
            "text/plain": [
              "((30478, 13), '\\n')"
            ]
          },
          "metadata": {},
          "execution_count": 78
        }
      ]
    },
    {
      "cell_type": "code",
      "source": [
        "price = df['Price']\n",
        "price.unique()[:10]"
      ],
      "metadata": {
        "colab": {
          "base_uri": "https://localhost:8080/"
        },
        "id": "uRAAEuncwh1U",
        "outputId": "6391177a-61a7-4256-b619-f16b4869c59d"
      },
      "id": "uRAAEuncwh1U",
      "execution_count": null,
      "outputs": [
        {
          "output_type": "execute_result",
          "data": {
            "text/plain": [
              "array(['145', '37', '28', '199', '549', '149', '250', '90', '270', '290'],\n",
              "      dtype=object)"
            ]
          },
          "metadata": {},
          "execution_count": 74
        }
      ]
    },
    {
      "cell_type": "code",
      "source": [
        "price = price.str.replace(',','')\n",
        "price = pd.to_numeric(price,errors='coerce')\n",
        "price"
      ],
      "metadata": {
        "colab": {
          "base_uri": "https://localhost:8080/"
        },
        "id": "riZbZ7Wi_KpQ",
        "outputId": "22281c05-4b7a-4821-97f2-ea4025cfe127"
      },
      "id": "riZbZ7Wi_KpQ",
      "execution_count": null,
      "outputs": [
        {
          "output_type": "execute_result",
          "data": {
            "text/plain": [
              "0        145\n",
              "1         37\n",
              "2         28\n",
              "3        199\n",
              "4        549\n",
              "        ... \n",
              "30473    300\n",
              "30474    125\n",
              "30475     80\n",
              "30476     35\n",
              "30477     80\n",
              "Name: Price, Length: 30478, dtype: int64"
            ]
          },
          "metadata": {},
          "execution_count": 75
        }
      ]
    },
    {
      "cell_type": "code",
      "source": [
        "missing_vals_count = price.isna().sum()\n",
        "missing_vals_count"
      ],
      "metadata": {
        "colab": {
          "base_uri": "https://localhost:8080/"
        },
        "id": "fdyly6AABIe0",
        "outputId": "f71c3fe8-b1ed-405a-f032-c1b46e443a09"
      },
      "id": "fdyly6AABIe0",
      "execution_count": null,
      "outputs": [
        {
          "output_type": "execute_result",
          "data": {
            "text/plain": [
              "0"
            ]
          },
          "metadata": {},
          "execution_count": 76
        }
      ]
    },
    {
      "cell_type": "code",
      "source": [
        "df['Price'] = price\n",
        "del price\n",
        "df['Price'].tail(3)"
      ],
      "metadata": {
        "colab": {
          "base_uri": "https://localhost:8080/"
        },
        "id": "u6A8ujkX33-R",
        "outputId": "f091e3c6-3e04-4c51-e3b3-33bbfc551c14"
      },
      "id": "u6A8ujkX33-R",
      "execution_count": null,
      "outputs": [
        {
          "output_type": "execute_result",
          "data": {
            "text/plain": [
              "30475    80\n",
              "30476    35\n",
              "30477    80\n",
              "Name: Price, dtype: int64"
            ]
          },
          "metadata": {},
          "execution_count": 77
        }
      ]
    },
    {
      "cell_type": "markdown",
      "source": [
        "<font size=\"4\">**Explanation of choices made**</font>\n",
        "\n",
        "First, I did a quick visual check of the Price column, and noticed that the data type was 'object' instead of int64. I made this adjustment for manipulation purposes. Then, I checked that there were no NaN values, which there weren't."
      ],
      "metadata": {
        "id": "wG4LYq_Xxwb6"
      },
      "id": "wG4LYq_Xxwb6"
    },
    {
      "cell_type": "markdown",
      "source": [
        "<font size=\"5\">**Q2. Part 2**</font>\n",
        "- Clean Type variable\n",
        "- Explain choices"
      ],
      "metadata": {
        "id": "_K3OPaZI5vt9"
      },
      "id": "_K3OPaZI5vt9"
    },
    {
      "cell_type": "code",
      "source": [
        "sdf = pd.read_csv('wrangling/assignment/data/sharks.csv', low_memory=False)\n",
        "sdf.head(3)"
      ],
      "metadata": {
        "colab": {
          "base_uri": "https://localhost:8080/",
          "height": 314
        },
        "id": "XtAMLBJd5y9L",
        "outputId": "db772ade-3e55-4d6c-cea5-1003c0c47429"
      },
      "id": "XtAMLBJd5y9L",
      "execution_count": null,
      "outputs": [
        {
          "output_type": "execute_result",
          "data": {
            "text/plain": [
              "   index   Case Number                  Date    Year        Type    Country  \\\n",
              "0      0    2020.02.05           05-Feb-2020  2020.0  Unprovoked        USA   \n",
              "1      1  2020.01.30.R  Reported 30-Jan-2020  2020.0    Provoked    BAHAMAS   \n",
              "2      2    2020.01.17           17-Jan-2020  2020.0  Unprovoked  AUSTRALIA   \n",
              "\n",
              "              Area       Location                  Activity             Name  \\\n",
              "0             Maui            NaN  Stand-Up Paddle boarding              NaN   \n",
              "1           Exumas            NaN                  Floating  Ana Bruna Avila   \n",
              "2  New South Wales  Windang Beach                   Surfing   Will Schroeter   \n",
              "\n",
              "   ... Unnamed: 246 Unnamed: 247 Unnamed: 248 Unnamed: 249 Unnamed: 250  \\\n",
              "0  ...          NaN          NaN          NaN          NaN          NaN   \n",
              "1  ...          NaN          NaN          NaN          NaN          NaN   \n",
              "2  ...          NaN          NaN          NaN          NaN          NaN   \n",
              "\n",
              "  Unnamed: 251 Unnamed: 252 Unnamed: 253 Unnamed: 254 Unnamed: 255  \n",
              "0          NaN          NaN          NaN          NaN          NaN  \n",
              "1          NaN          NaN          NaN          NaN          NaN  \n",
              "2          NaN          NaN          NaN          NaN          NaN  \n",
              "\n",
              "[3 rows x 257 columns]"
            ],
            "text/html": [
              "\n",
              "  <div id=\"df-fd06eacc-4dab-473c-92be-701ac6c40bc5\" class=\"colab-df-container\">\n",
              "    <div>\n",
              "<style scoped>\n",
              "    .dataframe tbody tr th:only-of-type {\n",
              "        vertical-align: middle;\n",
              "    }\n",
              "\n",
              "    .dataframe tbody tr th {\n",
              "        vertical-align: top;\n",
              "    }\n",
              "\n",
              "    .dataframe thead th {\n",
              "        text-align: right;\n",
              "    }\n",
              "</style>\n",
              "<table border=\"1\" class=\"dataframe\">\n",
              "  <thead>\n",
              "    <tr style=\"text-align: right;\">\n",
              "      <th></th>\n",
              "      <th>index</th>\n",
              "      <th>Case Number</th>\n",
              "      <th>Date</th>\n",
              "      <th>Year</th>\n",
              "      <th>Type</th>\n",
              "      <th>Country</th>\n",
              "      <th>Area</th>\n",
              "      <th>Location</th>\n",
              "      <th>Activity</th>\n",
              "      <th>Name</th>\n",
              "      <th>...</th>\n",
              "      <th>Unnamed: 246</th>\n",
              "      <th>Unnamed: 247</th>\n",
              "      <th>Unnamed: 248</th>\n",
              "      <th>Unnamed: 249</th>\n",
              "      <th>Unnamed: 250</th>\n",
              "      <th>Unnamed: 251</th>\n",
              "      <th>Unnamed: 252</th>\n",
              "      <th>Unnamed: 253</th>\n",
              "      <th>Unnamed: 254</th>\n",
              "      <th>Unnamed: 255</th>\n",
              "    </tr>\n",
              "  </thead>\n",
              "  <tbody>\n",
              "    <tr>\n",
              "      <th>0</th>\n",
              "      <td>0</td>\n",
              "      <td>2020.02.05</td>\n",
              "      <td>05-Feb-2020</td>\n",
              "      <td>2020.0</td>\n",
              "      <td>Unprovoked</td>\n",
              "      <td>USA</td>\n",
              "      <td>Maui</td>\n",
              "      <td>NaN</td>\n",
              "      <td>Stand-Up Paddle boarding</td>\n",
              "      <td>NaN</td>\n",
              "      <td>...</td>\n",
              "      <td>NaN</td>\n",
              "      <td>NaN</td>\n",
              "      <td>NaN</td>\n",
              "      <td>NaN</td>\n",
              "      <td>NaN</td>\n",
              "      <td>NaN</td>\n",
              "      <td>NaN</td>\n",
              "      <td>NaN</td>\n",
              "      <td>NaN</td>\n",
              "      <td>NaN</td>\n",
              "    </tr>\n",
              "    <tr>\n",
              "      <th>1</th>\n",
              "      <td>1</td>\n",
              "      <td>2020.01.30.R</td>\n",
              "      <td>Reported 30-Jan-2020</td>\n",
              "      <td>2020.0</td>\n",
              "      <td>Provoked</td>\n",
              "      <td>BAHAMAS</td>\n",
              "      <td>Exumas</td>\n",
              "      <td>NaN</td>\n",
              "      <td>Floating</td>\n",
              "      <td>Ana Bruna Avila</td>\n",
              "      <td>...</td>\n",
              "      <td>NaN</td>\n",
              "      <td>NaN</td>\n",
              "      <td>NaN</td>\n",
              "      <td>NaN</td>\n",
              "      <td>NaN</td>\n",
              "      <td>NaN</td>\n",
              "      <td>NaN</td>\n",
              "      <td>NaN</td>\n",
              "      <td>NaN</td>\n",
              "      <td>NaN</td>\n",
              "    </tr>\n",
              "    <tr>\n",
              "      <th>2</th>\n",
              "      <td>2</td>\n",
              "      <td>2020.01.17</td>\n",
              "      <td>17-Jan-2020</td>\n",
              "      <td>2020.0</td>\n",
              "      <td>Unprovoked</td>\n",
              "      <td>AUSTRALIA</td>\n",
              "      <td>New South Wales</td>\n",
              "      <td>Windang Beach</td>\n",
              "      <td>Surfing</td>\n",
              "      <td>Will Schroeter</td>\n",
              "      <td>...</td>\n",
              "      <td>NaN</td>\n",
              "      <td>NaN</td>\n",
              "      <td>NaN</td>\n",
              "      <td>NaN</td>\n",
              "      <td>NaN</td>\n",
              "      <td>NaN</td>\n",
              "      <td>NaN</td>\n",
              "      <td>NaN</td>\n",
              "      <td>NaN</td>\n",
              "      <td>NaN</td>\n",
              "    </tr>\n",
              "  </tbody>\n",
              "</table>\n",
              "<p>3 rows × 257 columns</p>\n",
              "</div>\n",
              "    <div class=\"colab-df-buttons\">\n",
              "\n",
              "  <div class=\"colab-df-container\">\n",
              "    <button class=\"colab-df-convert\" onclick=\"convertToInteractive('df-fd06eacc-4dab-473c-92be-701ac6c40bc5')\"\n",
              "            title=\"Convert this dataframe to an interactive table.\"\n",
              "            style=\"display:none;\">\n",
              "\n",
              "  <svg xmlns=\"http://www.w3.org/2000/svg\" height=\"24px\" viewBox=\"0 -960 960 960\">\n",
              "    <path d=\"M120-120v-720h720v720H120Zm60-500h600v-160H180v160Zm220 220h160v-160H400v160Zm0 220h160v-160H400v160ZM180-400h160v-160H180v160Zm440 0h160v-160H620v160ZM180-180h160v-160H180v160Zm440 0h160v-160H620v160Z\"/>\n",
              "  </svg>\n",
              "    </button>\n",
              "\n",
              "  <style>\n",
              "    .colab-df-container {\n",
              "      display:flex;\n",
              "      gap: 12px;\n",
              "    }\n",
              "\n",
              "    .colab-df-convert {\n",
              "      background-color: #E8F0FE;\n",
              "      border: none;\n",
              "      border-radius: 50%;\n",
              "      cursor: pointer;\n",
              "      display: none;\n",
              "      fill: #1967D2;\n",
              "      height: 32px;\n",
              "      padding: 0 0 0 0;\n",
              "      width: 32px;\n",
              "    }\n",
              "\n",
              "    .colab-df-convert:hover {\n",
              "      background-color: #E2EBFA;\n",
              "      box-shadow: 0px 1px 2px rgba(60, 64, 67, 0.3), 0px 1px 3px 1px rgba(60, 64, 67, 0.15);\n",
              "      fill: #174EA6;\n",
              "    }\n",
              "\n",
              "    .colab-df-buttons div {\n",
              "      margin-bottom: 4px;\n",
              "    }\n",
              "\n",
              "    [theme=dark] .colab-df-convert {\n",
              "      background-color: #3B4455;\n",
              "      fill: #D2E3FC;\n",
              "    }\n",
              "\n",
              "    [theme=dark] .colab-df-convert:hover {\n",
              "      background-color: #434B5C;\n",
              "      box-shadow: 0px 1px 3px 1px rgba(0, 0, 0, 0.15);\n",
              "      filter: drop-shadow(0px 1px 2px rgba(0, 0, 0, 0.3));\n",
              "      fill: #FFFFFF;\n",
              "    }\n",
              "  </style>\n",
              "\n",
              "    <script>\n",
              "      const buttonEl =\n",
              "        document.querySelector('#df-fd06eacc-4dab-473c-92be-701ac6c40bc5 button.colab-df-convert');\n",
              "      buttonEl.style.display =\n",
              "        google.colab.kernel.accessAllowed ? 'block' : 'none';\n",
              "\n",
              "      async function convertToInteractive(key) {\n",
              "        const element = document.querySelector('#df-fd06eacc-4dab-473c-92be-701ac6c40bc5');\n",
              "        const dataTable =\n",
              "          await google.colab.kernel.invokeFunction('convertToInteractive',\n",
              "                                                    [key], {});\n",
              "        if (!dataTable) return;\n",
              "\n",
              "        const docLinkHtml = 'Like what you see? Visit the ' +\n",
              "          '<a target=\"_blank\" href=https://colab.research.google.com/notebooks/data_table.ipynb>data table notebook</a>'\n",
              "          + ' to learn more about interactive tables.';\n",
              "        element.innerHTML = '';\n",
              "        dataTable['output_type'] = 'display_data';\n",
              "        await google.colab.output.renderOutput(dataTable, element);\n",
              "        const docLink = document.createElement('div');\n",
              "        docLink.innerHTML = docLinkHtml;\n",
              "        element.appendChild(docLink);\n",
              "      }\n",
              "    </script>\n",
              "  </div>\n",
              "\n",
              "\n",
              "<div id=\"df-41581730-169e-4137-ac7d-e4a0b25060e9\">\n",
              "  <button class=\"colab-df-quickchart\" onclick=\"quickchart('df-41581730-169e-4137-ac7d-e4a0b25060e9')\"\n",
              "            title=\"Suggest charts\"\n",
              "            style=\"display:none;\">\n",
              "\n",
              "<svg xmlns=\"http://www.w3.org/2000/svg\" height=\"24px\"viewBox=\"0 0 24 24\"\n",
              "     width=\"24px\">\n",
              "    <g>\n",
              "        <path d=\"M19 3H5c-1.1 0-2 .9-2 2v14c0 1.1.9 2 2 2h14c1.1 0 2-.9 2-2V5c0-1.1-.9-2-2-2zM9 17H7v-7h2v7zm4 0h-2V7h2v10zm4 0h-2v-4h2v4z\"/>\n",
              "    </g>\n",
              "</svg>\n",
              "  </button>\n",
              "\n",
              "<style>\n",
              "  .colab-df-quickchart {\n",
              "      --bg-color: #E8F0FE;\n",
              "      --fill-color: #1967D2;\n",
              "      --hover-bg-color: #E2EBFA;\n",
              "      --hover-fill-color: #174EA6;\n",
              "      --disabled-fill-color: #AAA;\n",
              "      --disabled-bg-color: #DDD;\n",
              "  }\n",
              "\n",
              "  [theme=dark] .colab-df-quickchart {\n",
              "      --bg-color: #3B4455;\n",
              "      --fill-color: #D2E3FC;\n",
              "      --hover-bg-color: #434B5C;\n",
              "      --hover-fill-color: #FFFFFF;\n",
              "      --disabled-bg-color: #3B4455;\n",
              "      --disabled-fill-color: #666;\n",
              "  }\n",
              "\n",
              "  .colab-df-quickchart {\n",
              "    background-color: var(--bg-color);\n",
              "    border: none;\n",
              "    border-radius: 50%;\n",
              "    cursor: pointer;\n",
              "    display: none;\n",
              "    fill: var(--fill-color);\n",
              "    height: 32px;\n",
              "    padding: 0;\n",
              "    width: 32px;\n",
              "  }\n",
              "\n",
              "  .colab-df-quickchart:hover {\n",
              "    background-color: var(--hover-bg-color);\n",
              "    box-shadow: 0 1px 2px rgba(60, 64, 67, 0.3), 0 1px 3px 1px rgba(60, 64, 67, 0.15);\n",
              "    fill: var(--button-hover-fill-color);\n",
              "  }\n",
              "\n",
              "  .colab-df-quickchart-complete:disabled,\n",
              "  .colab-df-quickchart-complete:disabled:hover {\n",
              "    background-color: var(--disabled-bg-color);\n",
              "    fill: var(--disabled-fill-color);\n",
              "    box-shadow: none;\n",
              "  }\n",
              "\n",
              "  .colab-df-spinner {\n",
              "    border: 2px solid var(--fill-color);\n",
              "    border-color: transparent;\n",
              "    border-bottom-color: var(--fill-color);\n",
              "    animation:\n",
              "      spin 1s steps(1) infinite;\n",
              "  }\n",
              "\n",
              "  @keyframes spin {\n",
              "    0% {\n",
              "      border-color: transparent;\n",
              "      border-bottom-color: var(--fill-color);\n",
              "      border-left-color: var(--fill-color);\n",
              "    }\n",
              "    20% {\n",
              "      border-color: transparent;\n",
              "      border-left-color: var(--fill-color);\n",
              "      border-top-color: var(--fill-color);\n",
              "    }\n",
              "    30% {\n",
              "      border-color: transparent;\n",
              "      border-left-color: var(--fill-color);\n",
              "      border-top-color: var(--fill-color);\n",
              "      border-right-color: var(--fill-color);\n",
              "    }\n",
              "    40% {\n",
              "      border-color: transparent;\n",
              "      border-right-color: var(--fill-color);\n",
              "      border-top-color: var(--fill-color);\n",
              "    }\n",
              "    60% {\n",
              "      border-color: transparent;\n",
              "      border-right-color: var(--fill-color);\n",
              "    }\n",
              "    80% {\n",
              "      border-color: transparent;\n",
              "      border-right-color: var(--fill-color);\n",
              "      border-bottom-color: var(--fill-color);\n",
              "    }\n",
              "    90% {\n",
              "      border-color: transparent;\n",
              "      border-bottom-color: var(--fill-color);\n",
              "    }\n",
              "  }\n",
              "</style>\n",
              "\n",
              "  <script>\n",
              "    async function quickchart(key) {\n",
              "      const quickchartButtonEl =\n",
              "        document.querySelector('#' + key + ' button');\n",
              "      quickchartButtonEl.disabled = true;  // To prevent multiple clicks.\n",
              "      quickchartButtonEl.classList.add('colab-df-spinner');\n",
              "      try {\n",
              "        const charts = await google.colab.kernel.invokeFunction(\n",
              "            'suggestCharts', [key], {});\n",
              "      } catch (error) {\n",
              "        console.error('Error during call to suggestCharts:', error);\n",
              "      }\n",
              "      quickchartButtonEl.classList.remove('colab-df-spinner');\n",
              "      quickchartButtonEl.classList.add('colab-df-quickchart-complete');\n",
              "    }\n",
              "    (() => {\n",
              "      let quickchartButtonEl =\n",
              "        document.querySelector('#df-41581730-169e-4137-ac7d-e4a0b25060e9 button');\n",
              "      quickchartButtonEl.style.display =\n",
              "        google.colab.kernel.accessAllowed ? 'block' : 'none';\n",
              "    })();\n",
              "  </script>\n",
              "</div>\n",
              "    </div>\n",
              "  </div>\n"
            ]
          },
          "metadata": {},
          "execution_count": 12
        }
      ]
    },
    {
      "cell_type": "code",
      "source": [
        "type = sdf['Type']\n",
        "type.unique()"
      ],
      "metadata": {
        "colab": {
          "base_uri": "https://localhost:8080/"
        },
        "id": "bUHaCxjr6vks",
        "outputId": "aa83e1d5-e96e-4be2-ad3b-b6702d594cb2"
      },
      "id": "bUHaCxjr6vks",
      "execution_count": null,
      "outputs": [
        {
          "output_type": "execute_result",
          "data": {
            "text/plain": [
              "array(['Unprovoked', 'Provoked', 'Questionable', 'Watercraft',\n",
              "       'Unconfirmed', 'Unverified', 'Invalid', 'Under investigation',\n",
              "       'Boating', 'Sea Disaster', nan, 'Boat', 'Boatomg'], dtype=object)"
            ]
          },
          "metadata": {},
          "execution_count": 48
        }
      ]
    },
    {
      "cell_type": "code",
      "source": [
        "type.value_counts(), '\\n'"
      ],
      "metadata": {
        "colab": {
          "base_uri": "https://localhost:8080/"
        },
        "id": "UkMp0dP98Ifa",
        "outputId": "3df864d8-3067-44d8-ab81-d67ea1993035"
      },
      "id": "UkMp0dP98Ifa",
      "execution_count": null,
      "outputs": [
        {
          "output_type": "execute_result",
          "data": {
            "text/plain": [
              "(Unprovoked             4716\n",
              " Provoked                593\n",
              " Invalid                 552\n",
              " Sea Disaster            239\n",
              " Watercraft              142\n",
              " Boat                    109\n",
              " Boating                  92\n",
              " Questionable             10\n",
              " Unconfirmed               1\n",
              " Unverified                1\n",
              " Under investigation       1\n",
              " Boatomg                   1\n",
              " Name: Type, dtype: int64,\n",
              " '\\n')"
            ]
          },
          "metadata": {},
          "execution_count": 14
        }
      ]
    },
    {
      "cell_type": "code",
      "source": [
        "type = type.replace(['Invalid', 'Questionable','Unconfirmed','Unverified','Under investigation'], 'Invalid')\n",
        "type = type.replace(['Sea Disaster', 'Watercraft','Boat','Boating','Boatomg'], 'Sea Disaster')\n",
        "type.value_counts() # Sanity check"
      ],
      "metadata": {
        "colab": {
          "base_uri": "https://localhost:8080/"
        },
        "id": "9dvpqBcs10bq",
        "outputId": "cc98a083-1b69-49ad-8b79-714190abfbc9"
      },
      "id": "9dvpqBcs10bq",
      "execution_count": null,
      "outputs": [
        {
          "output_type": "execute_result",
          "data": {
            "text/plain": [
              "Unprovoked      4716\n",
              "Provoked         593\n",
              "Sea Disaster     583\n",
              "Invalid          565\n",
              "Name: Type, dtype: int64"
            ]
          },
          "metadata": {},
          "execution_count": 50
        }
      ]
    },
    {
      "cell_type": "code",
      "source": [
        "df['Type'] = type\n",
        "del type\n",
        "df['Type'].value_counts() # Sanity check"
      ],
      "metadata": {
        "colab": {
          "base_uri": "https://localhost:8080/"
        },
        "id": "uo5Zo61p2gmL",
        "outputId": "7fe7ab2b-e4bd-4b83-ef32-f9cabc341ab0"
      },
      "id": "uo5Zo61p2gmL",
      "execution_count": null,
      "outputs": [
        {
          "output_type": "execute_result",
          "data": {
            "text/plain": [
              "Unprovoked      4716\n",
              "Provoked         593\n",
              "Sea Disaster     583\n",
              "Invalid          565\n",
              "Name: Type, dtype: int64"
            ]
          },
          "metadata": {},
          "execution_count": 51
        }
      ]
    },
    {
      "cell_type": "markdown",
      "source": [
        "<font size=\"4\">**Explanation of choices made**</font>\n",
        "\n",
        "\n",
        "First, I did a quick visual check of the Type column, and took a count of each type of attack. \"Invalid,\" \"Uncomfired,\" \"Unverified,\" etc. seemed pretty similar in meaning, so I combined them and named the category the same as the most populated one originally (\"Invalid\"). Also, several different types of attacks were related to boats, so I combined all of those (including the \"Boatomg\" type, which was a typo). I left this category as \"Sea Disasters.\""
      ],
      "metadata": {
        "id": "IsoJN2KG8WiJ"
      },
      "id": "IsoJN2KG8WiJ"
    },
    {
      "cell_type": "markdown",
      "source": [
        "<font size=\"5\">**Q2. Part 3**</font>\n",
        "\n",
        "- Clean WhetherDefendantWasReleasedPretrial variable\n",
        "- Replace missing values with np.nan\n",
        "- Explain choices"
      ],
      "metadata": {
        "id": "XyAegkRv4yLs"
      },
      "id": "XyAegkRv4yLs"
    },
    {
      "cell_type": "code",
      "source": [
        "url = 'http://www.vcsc.virginia.gov/pretrialdataproject/October%202017%20Cohort_Virginia%20Pretrial%20Data%20Project_Deidentified%20FINAL%20Update_10272021.csv'\n",
        "wdf = pd.read_csv(url,low_memory=False)"
      ],
      "metadata": {
        "id": "Lh7zQR3b5GrC"
      },
      "id": "Lh7zQR3b5GrC",
      "execution_count": null,
      "outputs": []
    },
    {
      "cell_type": "code",
      "source": [
        "wdf.shape, '\\n'"
      ],
      "metadata": {
        "colab": {
          "base_uri": "https://localhost:8080/"
        },
        "id": "vXp7_rRy6Cak",
        "outputId": "dc848cd0-ddde-4771-b38a-41d22888594a"
      },
      "id": "vXp7_rRy6Cak",
      "execution_count": null,
      "outputs": [
        {
          "output_type": "execute_result",
          "data": {
            "text/plain": [
              "((22986, 709), '\\n')"
            ]
          },
          "metadata": {},
          "execution_count": 4
        }
      ]
    },
    {
      "cell_type": "code",
      "source": [
        "released = wdf['WhetherDefendantWasReleasedPretrial']\n",
        "released.unique()"
      ],
      "metadata": {
        "colab": {
          "base_uri": "https://localhost:8080/"
        },
        "id": "oQHdXwG16LN5",
        "outputId": "84074784-451a-4cc6-b3fa-7cb28a2ebefb"
      },
      "id": "oQHdXwG16LN5",
      "execution_count": null,
      "outputs": [
        {
          "output_type": "execute_result",
          "data": {
            "text/plain": [
              "array([9, 0, 1])"
            ]
          },
          "metadata": {},
          "execution_count": 21
        }
      ]
    },
    {
      "cell_type": "code",
      "source": [
        "released.value_counts()"
      ],
      "metadata": {
        "colab": {
          "base_uri": "https://localhost:8080/"
        },
        "id": "4cT3rutNEOM5",
        "outputId": "066b8c6b-b580-4cc7-98a3-8a481a5a4e95"
      },
      "id": "4cT3rutNEOM5",
      "execution_count": null,
      "outputs": [
        {
          "output_type": "execute_result",
          "data": {
            "text/plain": [
              "1    19154\n",
              "0     3801\n",
              "9       31\n",
              "Name: WhetherDefendantWasReleasedPretrial, dtype: int64"
            ]
          },
          "metadata": {},
          "execution_count": 22
        }
      ]
    },
    {
      "cell_type": "code",
      "source": [
        "released = released.replace(9,np.nan)\n",
        "released.unique() # Sanity check"
      ],
      "metadata": {
        "colab": {
          "base_uri": "https://localhost:8080/"
        },
        "id": "LqJdu_cQFy_o",
        "outputId": "83727362-e811-4826-a9a1-1a1ddca328fd"
      },
      "id": "LqJdu_cQFy_o",
      "execution_count": null,
      "outputs": [
        {
          "output_type": "execute_result",
          "data": {
            "text/plain": [
              "array([nan,  0.,  1.])"
            ]
          },
          "metadata": {},
          "execution_count": 24
        }
      ]
    },
    {
      "cell_type": "code",
      "source": [
        "wdf['WhetherDefendantWasReleasedPretrial'] = released # Replace data column with cleaned values\n",
        "del released"
      ],
      "metadata": {
        "id": "jGA3nCxGF-bE"
      },
      "id": "jGA3nCxGF-bE",
      "execution_count": null,
      "outputs": []
    },
    {
      "cell_type": "markdown",
      "source": [
        "<font size=\"4\">**Explanation of choices made**</font>\n",
        "\n",
        "First, I loaded the dataset from the website because it was big, according to the notes (confirmed with wdf.shape). Then, I checked what values were in the specified column, and how many there were. According to the the codebook I found that the 9's meant \"unclear,\" so I changed those to np.nan, and then did a sanity check with .unique() to make sure it worked."
      ],
      "metadata": {
        "id": "lDUtWb3AD4R_"
      },
      "id": "lDUtWb3AD4R_"
    },
    {
      "cell_type": "markdown",
      "source": [
        "<font size=\"5\">**Q2. Part 4**</font>\n",
        "\n",
        "- Clean ImposedSentenceAllChargeInContactEvent variable\n",
        "- Explain choices\n",
        "- Hint: Look at SentenceTypeAllChargesAtConvictionInContactEvent variable"
      ],
      "metadata": {
        "id": "urOSRj7CGgdB"
      },
      "id": "urOSRj7CGgdB"
    },
    {
      "cell_type": "code",
      "source": [
        "imposed_sentence = wdf['ImposedSentenceAllChargeInContactEvent']\n",
        "imposed_sentence = pd.to_numeric(imposed_sentence, errors='coerce')\n",
        "sentence_type = wdf['SentenceTypeAllChargesAtConvictionInContactEvent']\n",
        "print(imposed_sentence.dtype, sentence_type.dtype)"
      ],
      "metadata": {
        "colab": {
          "base_uri": "https://localhost:8080/"
        },
        "id": "4lpuE4SHG5ed",
        "outputId": "fd4228bc-c0be-4638-e4b4-c4753979268e"
      },
      "id": "4lpuE4SHG5ed",
      "execution_count": null,
      "outputs": [
        {
          "output_type": "stream",
          "name": "stdout",
          "text": [
            "float64 int64\n"
          ]
        }
      ]
    },
    {
      "cell_type": "code",
      "source": [
        "print(imposed_sentence.unique()[:10], '\\n', sentence_type.unique())"
      ],
      "metadata": {
        "colab": {
          "base_uri": "https://localhost:8080/"
        },
        "id": "cff6SZqjIzNk",
        "outputId": "51a494ca-b006-4467-c905-97c92406ae45"
      },
      "id": "cff6SZqjIzNk",
      "execution_count": null,
      "outputs": [
        {
          "output_type": "stream",
          "name": "stdout",
          "text": [
            "[         nan  60.          12.           0.98562628  36.\n",
            "   6.          24.           5.9137577  120.          72.        ] \n",
            " [9 0 1 4 2]\n"
          ]
        }
      ]
    },
    {
      "cell_type": "code",
      "source": [
        "missing_imposed_count = (imposed_sentence.isna()).sum()\n",
        "missing_imposed_count"
      ],
      "metadata": {
        "colab": {
          "base_uri": "https://localhost:8080/"
        },
        "id": "yiJfolI3IHkJ",
        "outputId": "41aeaf92-b070-4b6c-9bd5-dec098a767fe"
      },
      "id": "yiJfolI3IHkJ",
      "execution_count": null,
      "outputs": [
        {
          "output_type": "execute_result",
          "data": {
            "text/plain": [
              "9053"
            ]
          },
          "metadata": {},
          "execution_count": 56
        }
      ]
    },
    {
      "cell_type": "code",
      "source": [
        "wdf['imposed_NA'] = imposed_sentence.isna()\n",
        "print(pd.crosstab(wdf['imposed_NA'],sentence_type),'\\n')"
      ],
      "metadata": {
        "colab": {
          "base_uri": "https://localhost:8080/"
        },
        "id": "z-Si_MnsQRtt",
        "outputId": "d60ea983-d748-49dd-c8ae-25b1fd8b5053"
      },
      "id": "z-Si_MnsQRtt",
      "execution_count": null,
      "outputs": [
        {
          "output_type": "stream",
          "name": "stdout",
          "text": [
            "SentenceTypeAllChargesAtConvictionInContactEvent     0     1    2     4    9\n",
            "imposed_NA                                                                  \n",
            "False                                             8720  4299  914     0    0\n",
            "True                                                 0     0    0  8779  274 \n",
            "\n"
          ]
        }
      ]
    },
    {
      "cell_type": "code",
      "source": [
        "imposed_sentence = imposed_sentence.mask(sentence_type == 4, 0)\n",
        "imposed_sentence = imposed_sentence.mask(sentence_type == 9, np.nan)"
      ],
      "metadata": {
        "id": "gmBbDtX8_NZj"
      },
      "id": "gmBbDtX8_NZj",
      "execution_count": null,
      "outputs": []
    },
    {
      "cell_type": "code",
      "source": [
        "imposed_NA = imposed_sentence.isnull()\n",
        "print(pd.crosstab(imposed_NA, sentence_type), '\\n')"
      ],
      "metadata": {
        "colab": {
          "base_uri": "https://localhost:8080/"
        },
        "id": "vkPA1kwq_Xt9",
        "outputId": "c16f154f-6fb5-48c4-b448-d6b584b83211"
      },
      "id": "vkPA1kwq_Xt9",
      "execution_count": null,
      "outputs": [
        {
          "output_type": "stream",
          "name": "stdout",
          "text": [
            "SentenceTypeAllChargesAtConvictionInContactEvent     0     1    2     4    9\n",
            "ImposedSentenceAllChargeInContactEvent                                      \n",
            "False                                             8720  4299  914  8779    0\n",
            "True                                                 0     0    0     0  274 \n",
            "\n"
          ]
        }
      ]
    },
    {
      "cell_type": "code",
      "source": [
        "wdf['ImposedSentenceAllChargeInContactEvent'] = imposed_sentence\n",
        "del imposed_sentence, sentence_type"
      ],
      "metadata": {
        "id": "AHyaFqEG-oAT"
      },
      "id": "AHyaFqEG-oAT",
      "execution_count": null,
      "outputs": []
    },
    {
      "cell_type": "markdown",
      "source": [
        "<font size=\"4\">**Explanation of choices made**</font>\n",
        "\n",
        "When I looked at imposed_sentence, some of the values had very long trailing decimals, and they were all strings. 9,053 of them were also missing. I made a dummy variable for the null imposed sentence values and used a crosstab function, which told me that a lot of imposed sentences for sentence type 4 were NaN. I used the codebook to see that these were cases that were dismissed / deferred, etc., so I changed their values to 0s, since these cases were similar to \"no incarceration.\" I tried to use .loc to do this, but it was taking too long, so I used the mask() function instead. I did something similar for sentence type 9, which also had a lot of NaN imposed sentence values, and changed those values to np.nan."
      ],
      "metadata": {
        "id": "E6bjsJXXG4We"
      },
      "id": "E6bjsJXXG4We"
    },
    {
      "cell_type": "markdown",
      "id": "649494cd-cfd6-4f80-992a-9994fc19e1d5",
      "metadata": {
        "id": "649494cd-cfd6-4f80-992a-9994fc19e1d5"
      },
      "source": [
        "<font size=\"5\">**Q3**</font> Many important datasets contain a race variable, typically limited to a handful of values often including Black, White, Asian, Latino, and Indigenous. This question looks at data gathering efforts on this variable by the U.S. Federal government.\n",
        "\n",
        "1. How did the most recent US Census gather data on race?\n",
        "2. Why do we gather these data? What role do these kinds of data play in politics and society? Why does data quality matter?\n",
        "3. Please provide a constructive criticism of how the Census was conducted: What was done well? What do you think was missing? How should future large scale surveys be adjusted to best reflect the diversity of the population? Could some of the Census' good practices be adopted more widely to gather richer and more useful data?\n",
        "4. How did the Census gather data on sex and gender? Please provide a similar constructive criticism of their practices.\n",
        "5. When it comes to cleaning data, what concerns do you have about protected characteristics like sex, gender, sexual identity, or race? What challenges can you imagine arising when there are missing values? What good or bad practices might people adopt, and why?\n",
        "6. Suppose someone invented an algorithm to impute values for protected characteristics like race, gender, sex, or sexuality. What kinds of concerns would you have?"
      ]
    },
    {
      "cell_type": "markdown",
      "source": [
        "<font size=\"5\">**Q3 Responses**</font>\n",
        "1. According to the US Census Bureau, race data is collected via self-identification, and individuals may choose to report more than one race group. They could check a box for things like \"White\" or \"African Am\" and then specify origin (\"Irish\" or \"Jamaican,\" for example) through print on the paper 2020 census.\n",
        "2. Race data are collected in order to aid governments and communities\n",
        "in their fight against discrimination. When used in conjunction with data related to housing, education, employment, etc., race data become a powerful tool to uncover inequalities that might otherwise be difficult to detect. These data collectively also allow for more just policy-making, since they help politicians understand demographic trends and the distribution of various resources. Good quality data is needed so that this entire process is accurate and so that policies can reflect the needs of the populations that they affect.\n",
        "3. I think that the Census did a good job of trying to make sure that people from all racial backgrounds could be accounted for. They not only offered opportunities for individuals to state their race, but also their specific origin. Additionally, people could choose more than one race, which was a positive step toward accomodating mixed-race people. One specific issue that I noticed was that the space for American Indian or Alaskan Native may be insufficient; it does not provide enough space even for the origin examples included on the Census. People belonging to these groups who see this may be confused or frustrated with this oversight, which could potentially lead to underreporting from those populations.\n",
        "4. The same inclusivity that was seen in the race section of the Census generally extended to queer individuals as well. However, I think there's room for improvement in how the Census addresses 'sex.' Given the evolving concept of gender diversity, the options of 'male' or 'female' may be too restrictive for some. To this point, incorporating a broader range of gender identities or perhaps adding a print-in section may be beneficial for the sake of political correctness. The makers of similar surveys could follow suit and adopt more open-ended, inclusive questions and options.\n",
        "5. When it comes to cleaning data, I am concerned that the aforementioned characteristics might be simplified into their overarching descriptors. For example, although someone writes in their specific origin, for the sake of data manipulation, scientists might just overgeneralize and say they are just a part of the broader category, and lose all distinction between various backgrounds. People who are not trained properly may introduce bias into the data when cleaning it. Additionally, missing values may cause problems because they would make it harder for data analysts to find patterns among and between connected data, and the statistical power of the dataset might be impacted. Good practices might include not adjusting certain data, such as that involved with race or sex, since the individuals who filled out the Census probably did it a certain way on purpose. These decisions can be documented so that analysts later on can understand why they were made. If imputation is necessary, it should be done in such a way that reflects the uncertainty in the dataset. Along with what was mentioned before, bad practice would include filling in data or throwing away essential pieces of data (overgeneralizing).\n",
        "6. If someone were to develop such an algorithm, I would have a few concerns: primarily, the imputed values might not reflect the affected individuals correctly, leading to misrepresentation. In turn, this could have consequences when it comes to policy making, as mentioned before. Misrepresentation can also reinforce stereotypes and marginalize certain minority groups. Additionally, I would worry that the algorithm would not adequately consider the dynamics of nuanced matters such as race or sex over time, which are influenced by personal experiences, cultural shifts, and/or social attitudes."
      ],
      "metadata": {
        "id": "yeJ275hM8FS7"
      },
      "id": "yeJ275hM8FS7"
    }
  ],
  "metadata": {
    "colab": {
      "provenance": [],
      "include_colab_link": true
    },
    "kernelspec": {
      "display_name": "Python 3 (ipykernel)",
      "language": "python",
      "name": "python3"
    },
    "language_info": {
      "codemirror_mode": {
        "name": "ipython",
        "version": 3
      },
      "file_extension": ".py",
      "mimetype": "text/x-python",
      "name": "python",
      "nbconvert_exporter": "python",
      "pygments_lexer": "ipython3",
      "version": "3.10.4"
    }
  },
  "nbformat": 4,
  "nbformat_minor": 5
}